{
 "cells": [
  {
   "cell_type": "code",
   "execution_count": 22,
   "id": "ac631f4f-bd86-48f2-9f5f-136062168a70",
   "metadata": {},
   "outputs": [],
   "source": [
    "import pandas as pd"
   ]
  },
  {
   "cell_type": "code",
   "execution_count": 23,
   "id": "d8b0bef0-5e38-4f01-a4c8-f673396c81f5",
   "metadata": {},
   "outputs": [],
   "source": [
    "full_data_path = r\"C:\\Users\\JGonzalez3\\Documents\\DataBCampWorkHere\\Project1\\full_data_with_temp.csv\"\n",
    "shopping_data_path = r\"C:\\Users\\JGonzalez3\\Documents\\DataBCampWorkHere\\Project1\\shopping_data.csv\"\n",
    "\n",
    "full_data_df = pd.read_csv(full_data_path)\n",
    "shopping_data_df = pd.read_csv(shopping_data_path)"
   ]
  },
  {
   "cell_type": "code",
   "execution_count": 24,
   "id": "9b6f8d32-1d96-4923-ba2a-e7dd4d59f8cc",
   "metadata": {},
   "outputs": [],
   "source": [
    "# Merge the dataframes on 'invoice_no', specifying which columns to bring in from the shopping_data\n",
    "merged_df = full_data_df.merge(shopping_data_df[['invoice_no', 'TRY-USD fx rate', 'USD Price']], on='invoice_no', how='left')\n"
   ]
  },
  {
   "cell_type": "code",
   "execution_count": 25,
   "id": "744611d1-1909-4c2c-b2eb-d9fc3649eb31",
   "metadata": {},
   "outputs": [],
   "source": [
    "path_to_merged_data = \"C:\\\\Users\\\\JGonzalez3\\\\Documents\\\\DataBCampWorkHere\\\\Project1\\\\merged_data.csv\"\n",
    "\n"
   ]
  },
  {
   "cell_type": "code",
   "execution_count": null,
   "id": "8bdfbe84-19d0-48ca-9a66-a53a06114e63",
   "metadata": {},
   "outputs": [],
   "source": []
  }
 ],
 "metadata": {
  "kernelspec": {
   "display_name": "Python 3 (ipykernel)",
   "language": "python",
   "name": "python3"
  },
  "language_info": {
   "codemirror_mode": {
    "name": "ipython",
    "version": 3
   },
   "file_extension": ".py",
   "mimetype": "text/x-python",
   "name": "python",
   "nbconvert_exporter": "python",
   "pygments_lexer": "ipython3",
   "version": "3.11.5"
  }
 },
 "nbformat": 4,
 "nbformat_minor": 5
}
